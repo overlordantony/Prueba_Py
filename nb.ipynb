{
 "cells": [
  {
   "cell_type": "code",
   "execution_count": 8,
   "metadata": {},
   "outputs": [
    {
     "data": {
      "text/plain": [
       "'Come comida'"
      ]
     },
     "execution_count": 8,
     "metadata": {},
     "output_type": "execute_result"
    }
   ],
   "source": [
    "def decorador(func):\n",
    "    def camuflador(*arg):\n",
    "        comida = func(*arg)\n",
    "        return \"Come \" + comida\n",
    "    return camuflador\n",
    "\n",
    "@decorador\n",
    "def comida(comida):\n",
    "    return comida\n",
    "\n",
    "comida(\"comida\")\n"
   ]
  },
  {
   "cell_type": "code",
   "execution_count": null,
   "metadata": {},
   "outputs": [],
   "source": []
  }
 ],
 "metadata": {
  "kernelspec": {
   "display_name": "Python 3.10.5 64-bit",
   "language": "python",
   "name": "python3"
  },
  "language_info": {
   "codemirror_mode": {
    "name": "ipython",
    "version": 3
   },
   "file_extension": ".py",
   "mimetype": "text/x-python",
   "name": "python",
   "nbconvert_exporter": "python",
   "pygments_lexer": "ipython3",
   "version": "3.10.5"
  },
  "orig_nbformat": 4,
  "vscode": {
   "interpreter": {
    "hash": "4613dd413de068636392aa9f0a524d906a01722dd998e6f86f307b78c10591af"
   }
  }
 },
 "nbformat": 4,
 "nbformat_minor": 2
}
